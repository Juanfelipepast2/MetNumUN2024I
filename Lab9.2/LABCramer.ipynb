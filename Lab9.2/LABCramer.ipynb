{
  "nbformat": 4,
  "nbformat_minor": 0,
  "metadata": {
    "colab": {
      "provenance": [],
      "include_colab_link": true
    },
    "kernelspec": {
      "name": "python3",
      "display_name": "Python 3"
    },
    "language_info": {
      "name": "python"
    }
  },
  "cells": [
    {
      "cell_type": "markdown",
      "metadata": {
        "id": "view-in-github",
        "colab_type": "text"
      },
      "source": [
        "<a href=\"https://colab.research.google.com/github/Juanfelipepast2/MetNumUN2024I/blob/main/Lab9.2/LABCramer.ipynb\" target=\"_parent\"><img src=\"https://colab.research.google.com/assets/colab-badge.svg\" alt=\"Open In Colab\"/></a>"
      ]
    },
    {
      "cell_type": "markdown",
      "source": [
        "### Cramer by hand\n",
        "\n",
        "$$A = \\left[\n",
        "  \\begin{array}{cc}\n",
        "1 & 2\\\\\n",
        "3 & 4\n",
        "\\end{array}\n",
        "\\right],  \n",
        "b= \\left[\n",
        "\\begin{array}{c}\n",
        "5\\\\\n",
        "6\n",
        "\\end{array}\n",
        "\\right]\n",
        "$$\n",
        "$$\n",
        "Ax =B\n",
        "$$\n",
        "$$  \n",
        "\\left[\n",
        "  \\begin{array}{cc}\n",
        "1 & 2\\\\\n",
        "3 & 4\n",
        "\\end{array}\n",
        "\\right]\n",
        "\\left[\n",
        "\\begin{array}{c}\n",
        "x_1\\\\\n",
        "x_2\n",
        "\\end{array}\n",
        "\\right]  \n",
        "=\n",
        "\\left[\n",
        "\\begin{array}{c}\n",
        "5\\\\\n",
        "6\n",
        "\\end{array}\n",
        "\\right]\n",
        "$$\n",
        "\n",
        "$$Det\\ A =  (1 * 4) - (3 * 2)  = 4 - 6 = -2$$\n",
        "\n",
        "$$A_1 = \\left[\n",
        "  \\begin{array}{cc}\n",
        "5 & 2\\\\\n",
        "6 & 4\n",
        "\\end{array}\n",
        "\\right]\n",
        "$$\n",
        "\n",
        "$$Det\\ A_1 = (5 * 4) - (6 * 2) = 20 - 12 =  8$$\n",
        "\n",
        "$$x_1 =  \\frac{Det\\ A_1}{Det\\ A}= \\frac{8}{-2} =  -4$$\n",
        "\n",
        "$$A_2 = \\left[\n",
        "  \\begin{array}{cc}\n",
        "1 & 5\\\\\n",
        "3 & 6\n",
        "\\end{array}\n",
        "\\right]\n",
        "$$\n",
        "\n",
        "$$Det\\ A_2 = (1*6) - (3*5)  = 6 -15 = -9$$\n",
        "\n",
        "$$x_2 = \\frac{Det\\ A_2}{Det\\ A}= \\frac{-9}{-2} =  \\frac{9}{2}$$"
      ],
      "metadata": {
        "id": "SUmNm2PmfHU7"
      }
    },
    {
      "cell_type": "markdown",
      "source": [
        "- ***Adding a single digit to any number requires about 7.30 bits of processing.*** - World Mental Calculation: News and Resources for Competitive and Advanced Mental Calculation https://worldmentalcalculation.com/2019/06/30/fastest-possible-processing-speed-of-the-human-brain/\n",
        "\n",
        "- ***The human brain can process 11 million bits of information every second. But our conscious minds can handle only 40 to 50 bits of information a second.*** - Understanding Unconscious Bias https://www.npr.org/2020/07/14/891140598/understanding-unconscious-bias\n",
        "\n",
        "- ***A new way to analyze human reaction times shows that the brain processes data no faster than 60 bits per second.***- New Measure of Human Brain Processing Speed https://www.technologyreview.com/2009/08/25/210267/new-measure-of-human-brain-processing-speed/\n",
        "\n",
        "\n"
      ],
      "metadata": {
        "id": "3rH8z64pk2XV"
      }
    },
    {
      "cell_type": "markdown",
      "source": [
        "# Number of operations to compute a determinant by cofactor expasion\n",
        "- Cofactor expansion https://people.math.carleton.ca/~kcheung/math/notes/MATH1107/07/07_cofactor_expansion.html\n",
        "## Definition of A(i∣j)\n",
        "Let $A$ be an $n\\times n$ matrix. Let $i,j \\in \\{1,…,n\\}$. We define $A(i∣j)$  to be the matrix obtained from $A$ by removing row $i$ and column $j$ from $A$.\n",
        "\n",
        "## Cofactor formula\n",
        "One way of computing the determinant of an $n\\times n$  matrix\n",
        "\n",
        "$$A = \\left[\n",
        "  \\begin{array}{cccc}\n",
        "a_{11} & a_{12} & \\cdots & a_{1n}\\\\\n",
        "a_{21} & a_{22} & \\cdots & a_{2n}\\\\\n",
        "\\vdots  & \\vdots & \\ddots & \\vdots\\\\\n",
        "a_{n1} & a_{n2} & \\cdots & a_{nn}\\\\\n",
        "\\end{array}\n",
        "\\right]\n",
        "$$\n",
        "is to use the following formula called the cofactor formula.\n",
        "\n",
        "Pick either any $i\\ \\in \\{1,…,n\\}$ (fixed row) or $i\\ \\in \\{1,…,n\\}$ (fixed column). Then\n",
        "\n",
        "$$\\det(A)  = \\sum_{j=1}^n (-1)^{i+j}a_{ij} \\det(A(i∣j)) $$\n",
        "\n",
        "\n",
        "$C_{i,j}= (-1)^{i+j}a_{ij} \\det(A(i∣j))$ is called a cofactor of $A$.\n",
        "\n",
        "$$\\det(A)  = \\sum_{j=1}^n C_{i,j} $$\n",
        "\n"
      ],
      "metadata": {
        "id": "CgrSIpDOnaGQ"
      }
    },
    {
      "cell_type": "code",
      "source": [
        "# Code from https://stackoverflow.com/questions/16510111/computing-determinant-of-a-matrix-nxn-recursively\n",
        "\n",
        "import numpy as np\n",
        "\n",
        "def smaller_matrix(original_matrix,row, column):\n",
        "    for ii in range(len(original_matrix)):\n",
        "        new_matrix=np.delete(original_matrix,ii,0)\n",
        "        new_matrix=np.delete(new_matrix,column,1)\n",
        "        return new_matrix\n",
        "\n",
        "\n",
        "def determinant(matrix):\n",
        "    \"\"\"Returns a determinant of a matrix by recursive method.\"\"\"\n",
        "    (r,c) = matrix.shape\n",
        "    if r != c:\n",
        "        print(\"Error!Not a square matrix!\")\n",
        "        return None\n",
        "    elif r==2:\n",
        "        simple_determinant = matrix[0][0]*matrix[1][1]-matrix[0][1]*matrix[1][0]\n",
        "        return simple_determinant\n",
        "    else:\n",
        "        answer=0\n",
        "        for j in range(r):\n",
        "            cofactor = (-1)**(0+j) * matrix[0][j] * determinant(smaller_matrix(matrix, 0, j))\n",
        "            answer+= cofactor\n",
        "        return answer"
      ],
      "metadata": {
        "id": "J-joKRBhC7eF"
      },
      "execution_count": 11,
      "outputs": []
    },
    {
      "cell_type": "code",
      "source": [
        "#test the function\n",
        "#Only works for numpy.array input\n",
        "np.random.seed(1)"
      ],
      "metadata": {
        "id": "Il2pcRD4DptG"
      },
      "execution_count": 12,
      "outputs": []
    },
    {
      "cell_type": "code",
      "source": [
        "n = 2\n",
        "matrix=np.random.randint(-5,5,size=(n,n))\n",
        "matrix"
      ],
      "metadata": {
        "colab": {
          "base_uri": "https://localhost:8080/"
        },
        "id": "AgKC1-aiFRW2",
        "outputId": "7386c730-6c60-461c-8961-90fa01954311"
      },
      "execution_count": 13,
      "outputs": [
        {
          "output_type": "execute_result",
          "data": {
            "text/plain": [
              "array([[0, 3],\n",
              "       [4, 0]])"
            ]
          },
          "metadata": {},
          "execution_count": 13
        }
      ]
    },
    {
      "cell_type": "code",
      "source": [
        "determinant(matrix)"
      ],
      "metadata": {
        "colab": {
          "base_uri": "https://localhost:8080/"
        },
        "outputId": "8946ecb3-a9d2-492b-98ab-1cae9cd0d8c4",
        "id": "oI0rUp-SDptH"
      },
      "execution_count": 14,
      "outputs": [
        {
          "output_type": "execute_result",
          "data": {
            "text/plain": [
              "-12"
            ]
          },
          "metadata": {},
          "execution_count": 14
        }
      ]
    },
    {
      "cell_type": "code",
      "source": [
        "np.linalg.det(matrix)"
      ],
      "metadata": {
        "colab": {
          "base_uri": "https://localhost:8080/"
        },
        "id": "iqZv7iK-KKXH",
        "outputId": "314bdf00-e8b1-44a5-bd56-4bf6ae09de8e"
      },
      "execution_count": 15,
      "outputs": [
        {
          "output_type": "execute_result",
          "data": {
            "text/plain": [
              "-12.0"
            ]
          },
          "metadata": {},
          "execution_count": 15
        }
      ]
    },
    {
      "cell_type": "code",
      "source": [
        "round(np.linalg.det(matrix))"
      ],
      "metadata": {
        "colab": {
          "base_uri": "https://localhost:8080/"
        },
        "id": "sY21rHM-KdlO",
        "outputId": "58ec4928-46d0-403d-df50-88be2f4f7530"
      },
      "execution_count": 16,
      "outputs": [
        {
          "output_type": "execute_result",
          "data": {
            "text/plain": [
              "-12"
            ]
          },
          "metadata": {},
          "execution_count": 16
        }
      ]
    },
    {
      "cell_type": "code",
      "source": [
        "n = 5\n",
        "matrix=np.diag(np.random.randint(-10,10,size=(n)))\n",
        "matrix"
      ],
      "metadata": {
        "colab": {
          "base_uri": "https://localhost:8080/"
        },
        "id": "-QXGZWFIDs5k",
        "outputId": "c170e6cc-978d-4b9d-8cb7-84898034583a"
      },
      "execution_count": 17,
      "outputs": [
        {
          "output_type": "execute_result",
          "data": {
            "text/plain": [
              "array([[  5,   0,   0,   0,   0],\n",
              "       [  0, -10,   0,   0,   0],\n",
              "       [  0,   0,   6,   0,   0],\n",
              "       [  0,   0,   0,  -9,   0],\n",
              "       [  0,   0,   0,   0,   2]])"
            ]
          },
          "metadata": {},
          "execution_count": 17
        }
      ]
    },
    {
      "cell_type": "code",
      "source": [
        "determinant(matrix)"
      ],
      "metadata": {
        "colab": {
          "base_uri": "https://localhost:8080/"
        },
        "id": "VP6hRwhwD-3W",
        "outputId": "6077bb53-e714-4dae-96a3-04cc71693f0e"
      },
      "execution_count": 18,
      "outputs": [
        {
          "output_type": "execute_result",
          "data": {
            "text/plain": [
              "5400"
            ]
          },
          "metadata": {},
          "execution_count": 18
        }
      ]
    },
    {
      "cell_type": "code",
      "source": [
        "np.linalg.det(matrix)"
      ],
      "metadata": {
        "colab": {
          "base_uri": "https://localhost:8080/"
        },
        "id": "8NV7Zvp-KtRz",
        "outputId": "0c7f73f4-cf70-4ff5-af9e-b0a84a674a36"
      },
      "execution_count": 19,
      "outputs": [
        {
          "output_type": "execute_result",
          "data": {
            "text/plain": [
              "5400.000000000003"
            ]
          },
          "metadata": {},
          "execution_count": 19
        }
      ]
    },
    {
      "cell_type": "code",
      "source": [
        "round(np.linalg.det(matrix))"
      ],
      "metadata": {
        "colab": {
          "base_uri": "https://localhost:8080/"
        },
        "id": "HXKK3weLKt5T",
        "outputId": "27523254-dd7b-458d-9249-fc1f1ce5579d"
      },
      "execution_count": 20,
      "outputs": [
        {
          "output_type": "execute_result",
          "data": {
            "text/plain": [
              "5400"
            ]
          },
          "metadata": {},
          "execution_count": 20
        }
      ]
    },
    {
      "cell_type": "code",
      "source": [
        "# Modified from the previous code\n",
        "import numpy as np\n",
        "\n",
        "# A a squared numpy matrix\n",
        "def det(A):\n",
        "    \"\"\"Returns a determinant of a matrix by recursive method.\"\"\"\n",
        "    (r,c) = A.shape\n",
        "    if r != c:\n",
        "        print(\"Error!Not a square matrix!\")\n",
        "        return None\n",
        "    elif r==1:\n",
        "          # the code with  r==2 is more efficient but we use this\n",
        "         # because the number of operations is easier to compute\n",
        "        return A[0][0]\n",
        "    else:\n",
        "        answer=0\n",
        "        for j in range(r):\n",
        "            s = 1 if (0+j)%2 == 0 else -1\n",
        "            Aij = np.delete(A,0,0)\n",
        "            Aij = np.delete(Aij,j,1)\n",
        "            cofactor = (s) * A[0][j] * det(Aij)\n",
        "            answer+= cofactor\n",
        "        return answer"
      ],
      "metadata": {
        "id": "B258g8lnBgnG"
      },
      "execution_count": 24,
      "outputs": []
    },
    {
      "cell_type": "code",
      "source": [
        "#test the function\n",
        "#Only works for numpy.array input\n",
        "np.random.seed(1)"
      ],
      "metadata": {
        "id": "ZR2mjlqiGdM6"
      },
      "execution_count": 21,
      "outputs": []
    },
    {
      "cell_type": "code",
      "source": [
        "n = 2\n",
        "A=np.random.randint(-5,5,size=(n,n))\n",
        "A"
      ],
      "metadata": {
        "colab": {
          "base_uri": "https://localhost:8080/"
        },
        "outputId": "14b6cb0f-e3f2-4d5f-9a1e-2915f748b941",
        "id": "jPpBCFaoGlak"
      },
      "execution_count": 22,
      "outputs": [
        {
          "output_type": "execute_result",
          "data": {
            "text/plain": [
              "array([[0, 3],\n",
              "       [4, 0]])"
            ]
          },
          "metadata": {},
          "execution_count": 22
        }
      ]
    },
    {
      "cell_type": "code",
      "source": [
        "det(A)"
      ],
      "metadata": {
        "colab": {
          "base_uri": "https://localhost:8080/"
        },
        "outputId": "86fffb03-c09a-467f-d268-392f8b380553",
        "id": "WKbuirZeGlak"
      },
      "execution_count": 25,
      "outputs": [
        {
          "output_type": "execute_result",
          "data": {
            "text/plain": [
              "-12"
            ]
          },
          "metadata": {},
          "execution_count": 25
        }
      ]
    },
    {
      "cell_type": "code",
      "source": [
        "determinant(A)"
      ],
      "metadata": {
        "colab": {
          "base_uri": "https://localhost:8080/"
        },
        "id": "_B5xBFirTvQm",
        "outputId": "707a39f5-e46a-48cd-e172-b747148724ab"
      },
      "execution_count": 26,
      "outputs": [
        {
          "output_type": "execute_result",
          "data": {
            "text/plain": [
              "-12"
            ]
          },
          "metadata": {},
          "execution_count": 26
        }
      ]
    },
    {
      "cell_type": "code",
      "source": [
        "np.linalg.det(A)"
      ],
      "metadata": {
        "colab": {
          "base_uri": "https://localhost:8080/"
        },
        "outputId": "ecfdc764-4979-4341-e644-9346f873fbcd",
        "id": "bRyF2dsFLbXC"
      },
      "execution_count": 27,
      "outputs": [
        {
          "output_type": "execute_result",
          "data": {
            "text/plain": [
              "-12.0"
            ]
          },
          "metadata": {},
          "execution_count": 27
        }
      ]
    },
    {
      "cell_type": "code",
      "source": [
        "round(np.linalg.det(A))"
      ],
      "metadata": {
        "colab": {
          "base_uri": "https://localhost:8080/"
        },
        "outputId": "eea17771-7fa9-49eb-c0e0-078636929e46",
        "id": "sOe1w9FPLbXD"
      },
      "execution_count": 28,
      "outputs": [
        {
          "output_type": "execute_result",
          "data": {
            "text/plain": [
              "-12"
            ]
          },
          "metadata": {},
          "execution_count": 28
        }
      ]
    },
    {
      "cell_type": "code",
      "source": [
        "n = 10\n",
        "\n",
        "A=np.random.randint(-10,10,size=(n,n))\n",
        "\n",
        "A"
      ],
      "metadata": {
        "colab": {
          "base_uri": "https://localhost:8080/"
        },
        "outputId": "90098d53-efab-4688-b6e5-e8097aaf5b9c",
        "id": "jzFX1soHGlak"
      },
      "execution_count": 29,
      "outputs": [
        {
          "output_type": "execute_result",
          "data": {
            "text/plain": [
              "array([[  5, -10,   6,  -9,   2,  -3,   3,  -4,   8,  -5],\n",
              "       [  8,   1,   0,   4,   8,  -6,  -1,   7, -10,   3],\n",
              "       [ -1,  -1,  -3,  -9, -10,   7,  -2,   3,   9,   5],\n",
              "       [  0,  -2,  -3,  -7,  -4,   7,  -7,  -6,   7,   1],\n",
              "       [  2,   6,   3,   9,  -1,   8,   5, -10,  -6,   5],\n",
              "       [ -8,  -3,  -2,  -1,  -7,  -3,  -6,  -5,   9,  -4],\n",
              "       [ -2, -10,  -8,   0,   5,   5,  -3,   9,   0,   4],\n",
              "       [-10,  -9,   7,   3,  -7, -10,   3,  -4,  -4,  -8],\n",
              "       [  2,   1,  -3,   3,  -2,   1,   2,   1,  -6,  -3],\n",
              "       [ -3,   3,  -6,   6,   8, -10,   3,   0,   7,  -3]])"
            ]
          },
          "metadata": {},
          "execution_count": 29
        }
      ]
    },
    {
      "cell_type": "code",
      "source": [
        "import time\n",
        "\n",
        "start_time = time.time()\n",
        "d = det(A)\n",
        "end_time = time.time()"
      ],
      "metadata": {
        "id": "I97qAqxGGlak"
      },
      "execution_count": 31,
      "outputs": []
    },
    {
      "cell_type": "code",
      "source": [
        "print(\"det(A): \",d)\n",
        "print(\"time: \",end_time - start_time)"
      ],
      "metadata": {
        "colab": {
          "base_uri": "https://localhost:8080/"
        },
        "id": "s7Ud-gBiTD0n",
        "outputId": "d1cd119d-e170-46c8-c4ca-ebf432b6d376"
      },
      "execution_count": null,
      "outputs": [
        {
          "output_type": "stream",
          "name": "stdout",
          "text": [
            "det(A):  29129065307\n",
            "time:  77.39920783042908\n"
          ]
        }
      ]
    },
    {
      "cell_type": "code",
      "source": [
        "import time\n",
        "\n",
        "start_time = time.time()\n",
        "d = determinant(A)\n",
        "end_time = time.time()"
      ],
      "metadata": {
        "id": "kjLXFQOeTRd2"
      },
      "execution_count": null,
      "outputs": []
    },
    {
      "cell_type": "code",
      "source": [
        "print(\"determinant(A): \",d)\n",
        "print(\"time: \",end_time - start_time)"
      ],
      "metadata": {
        "colab": {
          "base_uri": "https://localhost:8080/"
        },
        "id": "_TQFWy4ZSiDZ",
        "outputId": "fe3e5383-1786-495a-f474-7ac4cddc5b14"
      },
      "execution_count": null,
      "outputs": [
        {
          "output_type": "stream",
          "name": "stdout",
          "text": [
            "determinant(A):  29129065307\n",
            "time:  35.02712106704712\n"
          ]
        }
      ]
    },
    {
      "cell_type": "code",
      "source": [
        "import time\n",
        "\n",
        "start_time = time.time()\n",
        "d = np.linalg.det(A)\n",
        "end_time = time.time()"
      ],
      "metadata": {
        "id": "jL23i77VT55-"
      },
      "execution_count": 37,
      "outputs": []
    },
    {
      "cell_type": "code",
      "source": [
        "print(\"np.linalg.det(A): \",d)\n",
        "print(\"time: \",end_time - start_time)"
      ],
      "metadata": {
        "colab": {
          "base_uri": "https://localhost:8080/"
        },
        "id": "n94nx14VT5wn",
        "outputId": "5e90f423-45e8-433d-cea9-f47db3947cb2"
      },
      "execution_count": 38,
      "outputs": [
        {
          "output_type": "stream",
          "name": "stdout",
          "text": [
            "np.linalg.det(A):  0.0\n",
            "time:  0.007996797561645508\n"
          ]
        }
      ]
    },
    {
      "cell_type": "markdown",
      "source": [
        "# Estimating the time by instruction in Python in a Colab machine"
      ],
      "metadata": {
        "id": "Ssedt2z56DNC"
      }
    },
    {
      "cell_type": "code",
      "source": [
        "import numpy as np\n",
        "\n",
        "n = 100\n",
        "\n",
        "A = np.ones((n,n))\n",
        "\n",
        "A"
      ],
      "metadata": {
        "colab": {
          "base_uri": "https://localhost:8080/"
        },
        "id": "1KhlyeNi4uwa",
        "outputId": "41144d43-5a3f-4c71-97a7-3990b90bd219"
      },
      "execution_count": 42,
      "outputs": [
        {
          "output_type": "execute_result",
          "data": {
            "text/plain": [
              "array([[1., 1., 1., ..., 1., 1., 1.],\n",
              "       [1., 1., 1., ..., 1., 1., 1.],\n",
              "       [1., 1., 1., ..., 1., 1., 1.],\n",
              "       ...,\n",
              "       [1., 1., 1., ..., 1., 1., 1.],\n",
              "       [1., 1., 1., ..., 1., 1., 1.],\n",
              "       [1., 1., 1., ..., 1., 1., 1.]])"
            ]
          },
          "metadata": {},
          "execution_count": 42
        }
      ]
    },
    {
      "cell_type": "code",
      "source": [
        "B = np.ones((n,n))\n",
        "\n",
        "B"
      ],
      "metadata": {
        "colab": {
          "base_uri": "https://localhost:8080/"
        },
        "id": "RKtHO3UY5M87",
        "outputId": "cdb9f60f-91e9-4621-ad38-c8e1bda7a5dc"
      },
      "execution_count": 41,
      "outputs": [
        {
          "output_type": "execute_result",
          "data": {
            "text/plain": [
              "array([[1., 1., 1., ..., 1., 1., 1.],\n",
              "       [1., 1., 1., ..., 1., 1., 1.],\n",
              "       [1., 1., 1., ..., 1., 1., 1.],\n",
              "       ...,\n",
              "       [1., 1., 1., ..., 1., 1., 1.],\n",
              "       [1., 1., 1., ..., 1., 1., 1.],\n",
              "       [1., 1., 1., ..., 1., 1., 1.]])"
            ]
          },
          "metadata": {},
          "execution_count": 41
        }
      ]
    },
    {
      "cell_type": "code",
      "source": [
        "import time\n",
        "\n",
        "C= np.zeros((n,n))\n",
        "\n",
        "start_time = time.time()\n",
        "for i in range(n):\n",
        "        for j in range(n):\n",
        "            C[i][j] = 0\n",
        "            for k in range(len(A[0])):\n",
        "                C[i][j] += A[i][k] * B[k][j]\n",
        "end_time = time.time()\n",
        "print(end_time - start_time)"
      ],
      "metadata": {
        "colab": {
          "base_uri": "https://localhost:8080/"
        },
        "id": "0UFSLi-F5P0a",
        "outputId": "dded8886-57d8-42cf-c280-1ff72a728dd9"
      },
      "execution_count": 53,
      "outputs": [
        {
          "output_type": "stream",
          "name": "stdout",
          "text": [
            "1.2354750633239746\n"
          ]
        }
      ]
    },
    {
      "cell_type": "code",
      "source": [
        "C"
      ],
      "metadata": {
        "colab": {
          "base_uri": "https://localhost:8080/"
        },
        "id": "h9zr4Z9P61bs",
        "outputId": "aa13ad61-b137-4f52-97fd-65d41ba32c60"
      },
      "execution_count": 43,
      "outputs": [
        {
          "output_type": "execute_result",
          "data": {
            "text/plain": [
              "array([[10.,  0.,  0., ...,  0.,  0.,  0.],\n",
              "       [ 0.,  0.,  0., ...,  0.,  0.,  0.],\n",
              "       [ 0.,  0.,  0., ...,  0.,  0.,  0.],\n",
              "       ...,\n",
              "       [ 0.,  0.,  0., ...,  0.,  0.,  0.],\n",
              "       [ 0.,  0.,  0., ...,  0.,  0.,  0.],\n",
              "       [ 0.,  0.,  0., ...,  0.,  0.,  0.]])"
            ]
          },
          "metadata": {},
          "execution_count": 43
        }
      ]
    },
    {
      "cell_type": "code",
      "source": [
        "time_by_oper_python = (end_time - start_time)/(2*n**3 - n**2)\n",
        "\n",
        "time_by_oper_python"
      ],
      "metadata": {
        "colab": {
          "base_uri": "https://localhost:8080/"
        },
        "id": "iEhaMEK77Ko7",
        "outputId": "48a89bbc-a1d3-4c62-ad2e-0e3e907992a6"
      },
      "execution_count": 56,
      "outputs": [
        {
          "output_type": "execute_result",
          "data": {
            "text/plain": [
              "6.208417403638063e-07"
            ]
          },
          "metadata": {},
          "execution_count": 56
        }
      ]
    },
    {
      "cell_type": "code",
      "source": [
        "import time\n",
        "import numpy as np\n",
        "\n",
        "start_time = time.time()\n",
        "C = A@B\n",
        "end_time = time.time()\n",
        "print(end_time - start_time)"
      ],
      "metadata": {
        "colab": {
          "base_uri": "https://localhost:8080/"
        },
        "id": "TfGsw6UF9o-a",
        "outputId": "c3be2bd3-fb0a-44f4-ea5d-fc1061d743c7"
      },
      "execution_count": null,
      "outputs": [
        {
          "output_type": "stream",
          "name": "stdout",
          "text": [
            "0.001438140869140625\n"
          ]
        }
      ]
    },
    {
      "cell_type": "code",
      "source": [
        "C"
      ],
      "metadata": {
        "colab": {
          "base_uri": "https://localhost:8080/"
        },
        "id": "Q5MtZtVT93oQ",
        "outputId": "3d766f10-d8b4-4635-8f8f-ae6f74b713a9"
      },
      "execution_count": null,
      "outputs": [
        {
          "output_type": "execute_result",
          "data": {
            "text/plain": [
              "array([[100., 100., 100., ..., 100., 100., 100.],\n",
              "       [100., 100., 100., ..., 100., 100., 100.],\n",
              "       [100., 100., 100., ..., 100., 100., 100.],\n",
              "       ...,\n",
              "       [100., 100., 100., ..., 100., 100., 100.],\n",
              "       [100., 100., 100., ..., 100., 100., 100.],\n",
              "       [100., 100., 100., ..., 100., 100., 100.]])"
            ]
          },
          "metadata": {},
          "execution_count": 17
        }
      ]
    },
    {
      "cell_type": "code",
      "source": [
        "time_by_oper_numpy = (end_time - start_time)/(2*n**3 - n**2)\n",
        "\n",
        "time_by_oper_numpy"
      ],
      "metadata": {
        "colab": {
          "base_uri": "https://localhost:8080/"
        },
        "id": "DTVYQYxT-TsJ",
        "outputId": "161f7fd8-f393-4d62-ee3c-5091895c4b32"
      },
      "execution_count": null,
      "outputs": [
        {
          "output_type": "execute_result",
          "data": {
            "text/plain": [
              "7.226838538395101e-10"
            ]
          },
          "metadata": {},
          "execution_count": 25
        }
      ]
    },
    {
      "cell_type": "markdown",
      "source": [
        "# Time estimation for the digital computer computation of a 3 x 3 matrix determinant by cofactor expansion\n",
        "\n",
        "The number of operations $(+,-,*)$ perfomed  *det(A)* algorithm that calculates\n",
        "\n",
        "$$\\det(A)  = \\sum_{j=1}^n (-1)^{i+j}a_{ij} \\det(A(i∣j)) $$\n",
        "\n",
        "is given by\n",
        "\n",
        "$$\\begin{array}{lll}\n",
        "T(n) & =&  nT(n-1) + 5n , T(1) = 1\\\\\n",
        "\\end{array}\n",
        "$$\n",
        "\n",
        "$$\\begin{array}{lll}\n",
        "T(n) & =&  nT(n-1) + 5n\\\\\n",
        "     & =&  n[(n-1) T(n-2) + 5 (n-1) +10] + 5n  \\\\\n",
        "     & =&  n(n-1) T(n-2) + 5 n  (n-1) + 5n \\\\\n",
        "     & =&  n(n-1) [(n-2) T(n-3) + 5 (n-2)] + 5 n(n-1) + 5n\\\\\n",
        "     & = & n(n-1)(n-2) T(n-3) + 5n(n-1)(n-2)+  5 n  (n-1) + 5n \\\\\n",
        "     & \\vdots\\\\\n",
        "     & = &  n(n-1)(n-2)\\cdots (n -(n-2))  T(1) + [5n(n-1)(n-2)(n-3)\\cdots (n -(n-3))] + \\cdots + [5 n (n-1)]+ 5n \\\\\n",
        "    & = & n! + [5n(n-1)(n-2)(n-3)\\cdots 2] + [5n(n-1)(n-2)(n-3)\\cdots 3]+ \\cdots +[5 n (n-1) (n-3)] + [5 n (n-1)]+ 5n  \n",
        "\\end{array}\n",
        "$$\n",
        "\n",
        "$$T(n) = n! + 5 \\sum_{i=0}^{n-1} n!/i! = n! + 5 n!\\sum_{i=0}^{n-1} \\frac{1}{i!} < n! + 5 e n! < 16 n!  $$\n",
        "\n",
        "1. Asumming that an arithmetic operation takes the *time_by_oper_python* estimated before,  what is the maximun square matrix size for which the deteminant can be computed with cofactor extesion in $\\le$ 3 minute. Report the time at [LABCramer](https://docs.google.com/spreadsheets/d/1JNUbuj3QHcyPmp8i6kNreUFucj2mOvKHkCFHHy7zfws/edit?usp=sharing).\n",
        "\n",
        "2. Run an experiment with a random matrix of that size and report the time at [LABCramer](https://docs.google.com/spreadsheets/d/1JNUbuj3QHcyPmp8i6kNreUFucj2mOvKHkCFHHy7zfws/edit?usp=sharing).\n",
        "\n",
        "If the determinant of a $n \\times n$ square matrix takes $16 n!$ operations how much takes the Crammer solution of $n \\times n$ systems of linear equations?\n",
        "\n",
        "\n",
        "\n",
        "\n"
      ],
      "metadata": {
        "id": "PhAai3wzo_Tc"
      }
    },
    {
      "cell_type": "markdown",
      "source": [
        "# 1)"
      ],
      "metadata": {
        "id": "1Q2_AgMR74mR"
      }
    },
    {
      "cell_type": "code",
      "source": [
        "#time_by_oper_python\n",
        "import time\n",
        "import math\n",
        "\n",
        "def operations(size):\n",
        "    if size==1:\n",
        "        return 1\n",
        "    return size * operations(size - 1) + 5 * size\n",
        "\n",
        "def maxSize():\n",
        "    size = 0\n",
        "    total = 0\n",
        "    while total <= 180:\n",
        "        size += 1\n",
        "        total = float(operations(size)) * time_by_oper_python\n",
        "\n",
        "    size -= 1\n",
        "\n",
        "    return size, operations(size) * time_by_oper_python\n",
        "\n",
        "\n",
        "max_size, time = maxSize()\n",
        "\n",
        "\n",
        "print(f\"Tamaño máximo de la matriz: {max_size}\")\n",
        "print(f\"Tiempo de ejecución en segundos: {time}\")"
      ],
      "metadata": {
        "id": "Q1xzh9IpDGir",
        "outputId": "5fd2f6b8-b932-453e-d893-e83efb98ac0c",
        "colab": {
          "base_uri": "https://localhost:8080/"
        }
      },
      "execution_count": 65,
      "outputs": [
        {
          "output_type": "stream",
          "name": "stdout",
          "text": [
            "Tamaño máximo de la matriz: 10\n",
            "Tiempo de ejecución en segundos: 21.60858302588439\n"
          ]
        }
      ]
    },
    {
      "cell_type": "markdown",
      "source": [
        "# 2)"
      ],
      "metadata": {
        "id": "7TGJjcCwMIEg"
      }
    },
    {
      "cell_type": "code",
      "source": [
        "import time\n",
        "matriz = np.random.rand(max_size, max_size)\n",
        "inicio = time.time()\n",
        "determinante = det(matriz)\n",
        "final = time.time() - inicio\n",
        "print(f\"Tiempo de ejecución del determinante en segundos: {final}\")\n",
        "print(f\"Determinante: {determinante}\")\n",
        "\n"
      ],
      "metadata": {
        "id": "edFdbBH3MKEk",
        "outputId": "16ccb514-627c-4b4f-8af0-62b6f77f1501",
        "colab": {
          "base_uri": "https://localhost:8080/"
        }
      },
      "execution_count": 74,
      "outputs": [
        {
          "output_type": "stream",
          "name": "stdout",
          "text": [
            "Tiempo de ejecución del determinante en segundos: 75.24075865745544\n",
            "Determinante: 0.0004734317771293711\n"
          ]
        }
      ]
    },
    {
      "cell_type": "markdown",
      "source": [
        "# Time estimation for the human computer computation of a 3 x 3 matrix determinant by cofactor expansion\n",
        "\n",
        " Write a 3 x 3 matrix with the first element as your list number Mod 10 and the rest row by row 1,2,3,...9 skipimg the first element, by example if youir list number is 12, your list number Mod 10 is 2 and the matrix is\n",
        "$$A = \\left[\n",
        "  \\begin{array}{ccc}\n",
        "2 & 1 & 3\\\\\n",
        "4 & 5 & 6\\\\\n",
        "7 & 8 & 9\\\\\n",
        "\\end{array}\n",
        "\\right]\n",
        "$$\n",
        "Use a chronometer like http://online-stopwatch.chronme.com/ to estimate the time to compute the determinant by using the procedure in the follo wing exmaple (https://people.math.carleton.ca/~kcheung/math/notes/MATH1107/07/07_cofactor_expansion.html):<br />  \n",
        "Let\n",
        "$$A = \\begin{bmatrix} 1 & 2 & 3\\\\ 4 & 5 & 6\\\\ 7 & 8 & 9 \\end{bmatrix}$$\n",
        "we compute $\\det(A)$ by expanding along row $2$ as <br /> <br />\n",
        "$$\\begin{eqnarray} \\det(A) & = & (-1)^{2+1}A_{2,1}\\det(A(2 \\mid 1)) + (-1)^{2+2}A_{2,2}\\det(A(2 \\mid 2)) + (-1)^{2+3}A_{2,3}\\det(A(2 \\mid 3)) \\\\ & = & -4\\left|\\begin{matrix} 2 & 3 \\\\ 8 & 9\\end{matrix}\\right| + 5\\left|\\begin{matrix} 1 & 3 \\\\ 7 & 9\\end{matrix}\\right| - 6\\left|\\begin{matrix} 1 & 2 \\\\ 7 & 8\\end{matrix}\\right| \\\\ & = & -4(2\\cdot 9 - 3\\cdot 8) + 5(1 \\cdot 9- 3\\cdot 7) - 6(1\\cdot 8 - 2 \\cdot 7) \\\\ & = & 24 - 60 + 36 \\\\ & = & 0 \\end{eqnarray}$$\n",
        "3. Report the time at [LABCramer](https://docs.google.com/spreadsheets/d/1JNUbuj3QHcyPmp8i6kNreUFucj2mOvKHkCFHHy7zfws/edit?usp=sharing)\n",
        "4. Report the value of the determinant at [LABCramer](https://docs.google.com/spreadsheets/d/1JNUbuj3QHcyPmp8i6kNreUFucj2mOvKHkCFHHy7zfws/edit?usp=sharing)\n"
      ],
      "metadata": {
        "id": "__brdhGadAXY"
      }
    },
    {
      "cell_type": "markdown",
      "source": [
        "# 3)\n",
        "\n",
        "**Numero en lista: 33**\n",
        "\n",
        "33 % 10 = 3\n",
        "\n",
        "Matriz:\n",
        "$$A = \\left[\n",
        "  \\begin{array}{ccc}\n",
        "3 & 1 & 2\\\\\n",
        "4 & 5 & 6\\\\\n",
        "7 & 8 & 9\\\\\n",
        "\\end{array}\n",
        "\\right]\n",
        "$$\n",
        "\n",
        "![image.png](data:image/png;base64,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)"
      ],
      "metadata": {
        "id": "BQpxXo2MOxmi"
      }
    },
    {
      "cell_type": "markdown",
      "source": [
        "# 4)\n",
        "**Resultado determinante: -9**"
      ],
      "metadata": {
        "id": "zdZ5psZ7RMrX"
      }
    }
  ]
}